{
 "cells": [
  {
   "cell_type": "markdown",
   "id": "71a9e209",
   "metadata": {},
   "source": [
    "## Model  and Model Eval"
   ]
  },
  {
   "cell_type": "markdown",
   "id": "de66e32a",
   "metadata": {},
   "source": [
    "### Feature Engineering"
   ]
  },
  {
   "cell_type": "code",
   "execution_count": 1,
   "id": "6e13cbf0",
   "metadata": {},
   "outputs": [],
   "source": [
    "import pandas as pd\n",
    "import numpy as np"
   ]
  },
  {
   "cell_type": "markdown",
   "id": "a66f11b6",
   "metadata": {},
   "source": [
    "Load the modified datasets again"
   ]
  },
  {
   "cell_type": "code",
   "execution_count": 2,
   "id": "5779ddc7",
   "metadata": {},
   "outputs": [],
   "source": [
    "userdata = pd.read_csv('C:/Users/Avani/Documents/MScProj/Data/userdata.csv')\n",
    "coursedata = pd.read_csv('C:/Users/Avani/Documents/MScProj/Data/coursedata.csv')\n",
    "ratingdata = pd.read_csv('C:/Users/Avani/Documents/MScProj/Data/ratingdata.csv')"
   ]
  },
  {
   "cell_type": "code",
   "execution_count": 3,
   "id": "4f07fcc7",
   "metadata": {},
   "outputs": [
    {
     "data": {
      "text/html": [
       "<div>\n",
       "<style scoped>\n",
       "    .dataframe tbody tr th:only-of-type {\n",
       "        vertical-align: middle;\n",
       "    }\n",
       "\n",
       "    .dataframe tbody tr th {\n",
       "        vertical-align: top;\n",
       "    }\n",
       "\n",
       "    .dataframe thead th {\n",
       "        text-align: right;\n",
       "    }\n",
       "</style>\n",
       "<table border=\"1\" class=\"dataframe\">\n",
       "  <thead>\n",
       "    <tr style=\"text-align: right;\">\n",
       "      <th></th>\n",
       "      <th>emp_id</th>\n",
       "      <th>emp_status</th>\n",
       "      <th>emp_path</th>\n",
       "      <th>course_name</th>\n",
       "      <th>course_id</th>\n",
       "      <th>course_rating</th>\n",
       "    </tr>\n",
       "  </thead>\n",
       "  <tbody>\n",
       "    <tr>\n",
       "      <th>0</th>\n",
       "      <td>02-7699215</td>\n",
       "      <td>Active</td>\n",
       "      <td>Big Data</td>\n",
       "      <td>Azure PaaS_Beginner</td>\n",
       "      <td>3959</td>\n",
       "      <td>1</td>\n",
       "    </tr>\n",
       "    <tr>\n",
       "      <th>1</th>\n",
       "      <td>28-3031936</td>\n",
       "      <td>Transition Out</td>\n",
       "      <td>DS</td>\n",
       "      <td>Databases_Beginner</td>\n",
       "      <td>4329</td>\n",
       "      <td>4</td>\n",
       "    </tr>\n",
       "    <tr>\n",
       "      <th>2</th>\n",
       "      <td>53-5840917</td>\n",
       "      <td>Active</td>\n",
       "      <td>Cloud</td>\n",
       "      <td>Azure PaaS_Beginner</td>\n",
       "      <td>5016</td>\n",
       "      <td>3</td>\n",
       "    </tr>\n",
       "    <tr>\n",
       "      <th>3</th>\n",
       "      <td>58-3106403</td>\n",
       "      <td>Transition In</td>\n",
       "      <td>Web Dev</td>\n",
       "      <td>R Language_Expert</td>\n",
       "      <td>1533</td>\n",
       "      <td>3</td>\n",
       "    </tr>\n",
       "    <tr>\n",
       "      <th>4</th>\n",
       "      <td>75-3586738</td>\n",
       "      <td>Active</td>\n",
       "      <td>Big Data</td>\n",
       "      <td>AWS_Advanced</td>\n",
       "      <td>5392</td>\n",
       "      <td>4</td>\n",
       "    </tr>\n",
       "  </tbody>\n",
       "</table>\n",
       "</div>"
      ],
      "text/plain": [
       "       emp_id      emp_status  emp_path          course_name  course_id  \\\n",
       "0  02-7699215          Active  Big Data  Azure PaaS_Beginner       3959   \n",
       "1  28-3031936  Transition Out        DS   Databases_Beginner       4329   \n",
       "2  53-5840917          Active     Cloud  Azure PaaS_Beginner       5016   \n",
       "3  58-3106403   Transition In   Web Dev    R Language_Expert       1533   \n",
       "4  75-3586738          Active  Big Data         AWS_Advanced       5392   \n",
       "\n",
       "   course_rating  \n",
       "0              1  \n",
       "1              4  \n",
       "2              3  \n",
       "3              3  \n",
       "4              4  "
      ]
     },
     "execution_count": 3,
     "metadata": {},
     "output_type": "execute_result"
    }
   ],
   "source": [
    "ratingdata.head()"
   ]
  },
  {
   "cell_type": "markdown",
   "id": "aa07d266",
   "metadata": {},
   "source": [
    "Filling the missing values"
   ]
  },
  {
   "cell_type": "code",
   "execution_count": 4,
   "id": "cc63fb76",
   "metadata": {},
   "outputs": [],
   "source": [
    "# Impute missing course_rating with median rating\n",
    "median_rating = coursedata['course_rating'].median()\n",
    "coursedata['course_rating'].fillna(median_rating, inplace=True)"
   ]
  },
  {
   "cell_type": "markdown",
   "id": "cf40b761",
   "metadata": {},
   "source": [
    "Splitting the data"
   ]
  },
  {
   "cell_type": "code",
   "execution_count": 5,
   "id": "ac940bb5",
   "metadata": {},
   "outputs": [
    {
     "data": {
      "text/plain": [
       "((55643, 6), (23846, 6))"
      ]
     },
     "execution_count": 5,
     "metadata": {},
     "output_type": "execute_result"
    }
   ],
   "source": [
    "from sklearn.model_selection import train_test_split\n",
    "\n",
    "# Separating rows where `emp_status` is 'Transition In'\n",
    "transition_in_data = ratingdata[ratingdata['emp_status'] == 'Transition In']\n",
    "remaining_data = ratingdata[ratingdata['emp_status'] != 'Transition In']\n",
    "\n",
    "# Calculating the required test size to achieve an overall 70:30 split when \n",
    "# including 'Transition In' rows\n",
    "total_data = len(ratingdata)\n",
    "total_test_size = int(0.3 * total_data)  # 30% of total data\n",
    "# Subtracting the 'Transition In' rows\n",
    "remaining_test_size = total_test_size - len(transition_in_data)  \n",
    "\n",
    "# Splitting the remaining data to achieve the desired test size\n",
    "train_data, test_data_temp = train_test_split(remaining_data, \n",
    "                                              test_size=remaining_test_size, \n",
    "                                              random_state=42)\n",
    "\n",
    "# Adding the 'Transition In' rows to the test set\n",
    "test_data = pd.concat([test_data_temp, transition_in_data], axis=0)\n",
    "\n",
    "train_data.shape, test_data.shape\n"
   ]
  },
  {
   "cell_type": "markdown",
   "id": "5005f42f",
   "metadata": {},
   "source": [
    "### Encoding "
   ]
  },
  {
   "cell_type": "code",
   "execution_count": 6,
   "id": "7a8edd3d",
   "metadata": {
    "scrolled": true
   },
   "outputs": [],
   "source": [
    "from sklearn.preprocessing import OneHotEncoder\n",
    "from sklearn.metrics.pairwise import cosine_similarity\n",
    "\n",
    "# One-hot encoding the relevant features from userdata\n",
    "encoder = OneHotEncoder()\n",
    "encoded_features = encoder.fit_transform(userdata[['emp_path', 'emp_level', 'edu_level']])\n",
    "encoded_features_df = pd.DataFrame(encoded_features.toarray(), index=userdata['emp_id'])\n",
    "\n",
    "\n"
   ]
  },
  {
   "cell_type": "markdown",
   "id": "924fc632",
   "metadata": {},
   "source": [
    "### User similarity calculation"
   ]
  },
  {
   "cell_type": "code",
   "execution_count": 7,
   "id": "fc6d4f19",
   "metadata": {},
   "outputs": [
    {
     "data": {
      "text/html": [
       "<div>\n",
       "<style scoped>\n",
       "    .dataframe tbody tr th:only-of-type {\n",
       "        vertical-align: middle;\n",
       "    }\n",
       "\n",
       "    .dataframe tbody tr th {\n",
       "        vertical-align: top;\n",
       "    }\n",
       "\n",
       "    .dataframe thead th {\n",
       "        text-align: right;\n",
       "    }\n",
       "</style>\n",
       "<table border=\"1\" class=\"dataframe\">\n",
       "  <thead>\n",
       "    <tr style=\"text-align: right;\">\n",
       "      <th>emp_id</th>\n",
       "      <th>02-7699215</th>\n",
       "      <th>28-3031936</th>\n",
       "      <th>53-5840917</th>\n",
       "      <th>58-3106403</th>\n",
       "      <th>75-3586738</th>\n",
       "      <th>79-2925423</th>\n",
       "      <th>08-3543359</th>\n",
       "      <th>94-2433520</th>\n",
       "      <th>37-0865020</th>\n",
       "      <th>17-1643005</th>\n",
       "      <th>...</th>\n",
       "      <th>49-1835007</th>\n",
       "      <th>05-5730112</th>\n",
       "      <th>20-5059638</th>\n",
       "      <th>41-1004569</th>\n",
       "      <th>45-8573486</th>\n",
       "      <th>39-8214360</th>\n",
       "      <th>14-9541015</th>\n",
       "      <th>17-7308435</th>\n",
       "      <th>53-3899747</th>\n",
       "      <th>48-3200612</th>\n",
       "    </tr>\n",
       "    <tr>\n",
       "      <th>emp_id</th>\n",
       "      <th></th>\n",
       "      <th></th>\n",
       "      <th></th>\n",
       "      <th></th>\n",
       "      <th></th>\n",
       "      <th></th>\n",
       "      <th></th>\n",
       "      <th></th>\n",
       "      <th></th>\n",
       "      <th></th>\n",
       "      <th></th>\n",
       "      <th></th>\n",
       "      <th></th>\n",
       "      <th></th>\n",
       "      <th></th>\n",
       "      <th></th>\n",
       "      <th></th>\n",
       "      <th></th>\n",
       "      <th></th>\n",
       "      <th></th>\n",
       "      <th></th>\n",
       "    </tr>\n",
       "  </thead>\n",
       "  <tbody>\n",
       "    <tr>\n",
       "      <th>02-7699215</th>\n",
       "      <td>1.000000</td>\n",
       "      <td>0.333333</td>\n",
       "      <td>0.000000</td>\n",
       "      <td>0.666667</td>\n",
       "      <td>0.666667</td>\n",
       "      <td>0.666667</td>\n",
       "      <td>0.333333</td>\n",
       "      <td>0.666667</td>\n",
       "      <td>0.333333</td>\n",
       "      <td>0.666667</td>\n",
       "      <td>...</td>\n",
       "      <td>0.000000</td>\n",
       "      <td>0.333333</td>\n",
       "      <td>0.333333</td>\n",
       "      <td>0.333333</td>\n",
       "      <td>0.666667</td>\n",
       "      <td>0.000000</td>\n",
       "      <td>0.000000</td>\n",
       "      <td>0.333333</td>\n",
       "      <td>0.000000</td>\n",
       "      <td>0.333333</td>\n",
       "    </tr>\n",
       "    <tr>\n",
       "      <th>28-3031936</th>\n",
       "      <td>0.333333</td>\n",
       "      <td>1.000000</td>\n",
       "      <td>0.000000</td>\n",
       "      <td>0.333333</td>\n",
       "      <td>0.333333</td>\n",
       "      <td>0.333333</td>\n",
       "      <td>1.000000</td>\n",
       "      <td>0.333333</td>\n",
       "      <td>0.666667</td>\n",
       "      <td>0.333333</td>\n",
       "      <td>...</td>\n",
       "      <td>0.000000</td>\n",
       "      <td>0.000000</td>\n",
       "      <td>0.000000</td>\n",
       "      <td>0.000000</td>\n",
       "      <td>0.666667</td>\n",
       "      <td>0.333333</td>\n",
       "      <td>0.000000</td>\n",
       "      <td>0.333333</td>\n",
       "      <td>0.000000</td>\n",
       "      <td>0.333333</td>\n",
       "    </tr>\n",
       "    <tr>\n",
       "      <th>53-5840917</th>\n",
       "      <td>0.000000</td>\n",
       "      <td>0.000000</td>\n",
       "      <td>1.000000</td>\n",
       "      <td>0.000000</td>\n",
       "      <td>0.333333</td>\n",
       "      <td>0.000000</td>\n",
       "      <td>0.000000</td>\n",
       "      <td>0.333333</td>\n",
       "      <td>0.000000</td>\n",
       "      <td>0.000000</td>\n",
       "      <td>...</td>\n",
       "      <td>0.333333</td>\n",
       "      <td>0.000000</td>\n",
       "      <td>0.000000</td>\n",
       "      <td>0.333333</td>\n",
       "      <td>0.000000</td>\n",
       "      <td>0.000000</td>\n",
       "      <td>0.666667</td>\n",
       "      <td>0.333333</td>\n",
       "      <td>0.333333</td>\n",
       "      <td>0.666667</td>\n",
       "    </tr>\n",
       "    <tr>\n",
       "      <th>58-3106403</th>\n",
       "      <td>0.666667</td>\n",
       "      <td>0.333333</td>\n",
       "      <td>0.000000</td>\n",
       "      <td>1.000000</td>\n",
       "      <td>0.333333</td>\n",
       "      <td>0.333333</td>\n",
       "      <td>0.333333</td>\n",
       "      <td>0.333333</td>\n",
       "      <td>0.333333</td>\n",
       "      <td>0.333333</td>\n",
       "      <td>...</td>\n",
       "      <td>0.000000</td>\n",
       "      <td>0.000000</td>\n",
       "      <td>0.000000</td>\n",
       "      <td>0.000000</td>\n",
       "      <td>0.333333</td>\n",
       "      <td>0.000000</td>\n",
       "      <td>0.000000</td>\n",
       "      <td>0.333333</td>\n",
       "      <td>0.000000</td>\n",
       "      <td>0.333333</td>\n",
       "    </tr>\n",
       "    <tr>\n",
       "      <th>75-3586738</th>\n",
       "      <td>0.666667</td>\n",
       "      <td>0.333333</td>\n",
       "      <td>0.333333</td>\n",
       "      <td>0.333333</td>\n",
       "      <td>1.000000</td>\n",
       "      <td>0.666667</td>\n",
       "      <td>0.333333</td>\n",
       "      <td>1.000000</td>\n",
       "      <td>0.333333</td>\n",
       "      <td>0.666667</td>\n",
       "      <td>...</td>\n",
       "      <td>0.000000</td>\n",
       "      <td>0.333333</td>\n",
       "      <td>0.333333</td>\n",
       "      <td>0.333333</td>\n",
       "      <td>0.666667</td>\n",
       "      <td>0.000000</td>\n",
       "      <td>0.333333</td>\n",
       "      <td>0.333333</td>\n",
       "      <td>0.000000</td>\n",
       "      <td>0.666667</td>\n",
       "    </tr>\n",
       "  </tbody>\n",
       "</table>\n",
       "<p>5 rows × 5000 columns</p>\n",
       "</div>"
      ],
      "text/plain": [
       "emp_id      02-7699215  28-3031936  53-5840917  58-3106403  75-3586738  \\\n",
       "emp_id                                                                   \n",
       "02-7699215    1.000000    0.333333    0.000000    0.666667    0.666667   \n",
       "28-3031936    0.333333    1.000000    0.000000    0.333333    0.333333   \n",
       "53-5840917    0.000000    0.000000    1.000000    0.000000    0.333333   \n",
       "58-3106403    0.666667    0.333333    0.000000    1.000000    0.333333   \n",
       "75-3586738    0.666667    0.333333    0.333333    0.333333    1.000000   \n",
       "\n",
       "emp_id      79-2925423  08-3543359  94-2433520  37-0865020  17-1643005  ...  \\\n",
       "emp_id                                                                  ...   \n",
       "02-7699215    0.666667    0.333333    0.666667    0.333333    0.666667  ...   \n",
       "28-3031936    0.333333    1.000000    0.333333    0.666667    0.333333  ...   \n",
       "53-5840917    0.000000    0.000000    0.333333    0.000000    0.000000  ...   \n",
       "58-3106403    0.333333    0.333333    0.333333    0.333333    0.333333  ...   \n",
       "75-3586738    0.666667    0.333333    1.000000    0.333333    0.666667  ...   \n",
       "\n",
       "emp_id      49-1835007  05-5730112  20-5059638  41-1004569  45-8573486  \\\n",
       "emp_id                                                                   \n",
       "02-7699215    0.000000    0.333333    0.333333    0.333333    0.666667   \n",
       "28-3031936    0.000000    0.000000    0.000000    0.000000    0.666667   \n",
       "53-5840917    0.333333    0.000000    0.000000    0.333333    0.000000   \n",
       "58-3106403    0.000000    0.000000    0.000000    0.000000    0.333333   \n",
       "75-3586738    0.000000    0.333333    0.333333    0.333333    0.666667   \n",
       "\n",
       "emp_id      39-8214360  14-9541015  17-7308435  53-3899747  48-3200612  \n",
       "emp_id                                                                  \n",
       "02-7699215    0.000000    0.000000    0.333333    0.000000    0.333333  \n",
       "28-3031936    0.333333    0.000000    0.333333    0.000000    0.333333  \n",
       "53-5840917    0.000000    0.666667    0.333333    0.333333    0.666667  \n",
       "58-3106403    0.000000    0.000000    0.333333    0.000000    0.333333  \n",
       "75-3586738    0.000000    0.333333    0.333333    0.000000    0.666667  \n",
       "\n",
       "[5 rows x 5000 columns]"
      ]
     },
     "execution_count": 7,
     "metadata": {},
     "output_type": "execute_result"
    }
   ],
   "source": [
    "# Compute cosine similarities between users based on these features\n",
    "user_feature_similarity = cosine_similarity(encoded_features_df)\n",
    "user_feature_similarity_df = pd.DataFrame(user_feature_similarity, \n",
    "                                          index=encoded_features_df.index, \n",
    "                                          columns=encoded_features_df.index)\n",
    "\n",
    "user_feature_similarity_df.head()"
   ]
  },
  {
   "cell_type": "markdown",
   "id": "68762f41",
   "metadata": {},
   "source": [
    "### Model Build"
   ]
  },
  {
   "cell_type": "markdown",
   "id": "519e243d",
   "metadata": {},
   "source": [
    "#### Sampling users for testing:"
   ]
  },
  {
   "cell_type": "code",
   "execution_count": 8,
   "id": "d78446e5",
   "metadata": {},
   "outputs": [
    {
     "data": {
      "text/html": [
       "<div>\n",
       "<style scoped>\n",
       "    .dataframe tbody tr th:only-of-type {\n",
       "        vertical-align: middle;\n",
       "    }\n",
       "\n",
       "    .dataframe tbody tr th {\n",
       "        vertical-align: top;\n",
       "    }\n",
       "\n",
       "    .dataframe thead th {\n",
       "        text-align: right;\n",
       "    }\n",
       "</style>\n",
       "<table border=\"1\" class=\"dataframe\">\n",
       "  <thead>\n",
       "    <tr style=\"text-align: right;\">\n",
       "      <th></th>\n",
       "      <th>emp_id</th>\n",
       "      <th>first_name</th>\n",
       "      <th>last_name</th>\n",
       "      <th>email</th>\n",
       "      <th>emp_dob</th>\n",
       "      <th>edu_level</th>\n",
       "      <th>emp_status</th>\n",
       "      <th>emp_level</th>\n",
       "      <th>emp_path</th>\n",
       "      <th>time_per_week</th>\n",
       "      <th>asp_alt_path</th>\n",
       "      <th>skill_1</th>\n",
       "      <th>skill_2</th>\n",
       "      <th>skill_1_1evel</th>\n",
       "      <th>skill_2_1evel</th>\n",
       "    </tr>\n",
       "  </thead>\n",
       "  <tbody>\n",
       "    <tr>\n",
       "      <th>52</th>\n",
       "      <td>28-1178027</td>\n",
       "      <td>Mitchael</td>\n",
       "      <td>Colbourn</td>\n",
       "      <td>mcolbourn1g@w3.org</td>\n",
       "      <td>3/9/1979</td>\n",
       "      <td>Bachelors</td>\n",
       "      <td>Transition In</td>\n",
       "      <td>7</td>\n",
       "      <td>Big Data</td>\n",
       "      <td>5</td>\n",
       "      <td>Big Data</td>\n",
       "      <td>Hadoop</td>\n",
       "      <td>Python</td>\n",
       "      <td>Expert</td>\n",
       "      <td>Expert</td>\n",
       "    </tr>\n",
       "  </tbody>\n",
       "</table>\n",
       "</div>"
      ],
      "text/plain": [
       "        emp_id first_name last_name               email   emp_dob  edu_level  \\\n",
       "52  28-1178027   Mitchael  Colbourn  mcolbourn1g@w3.org  3/9/1979  Bachelors   \n",
       "\n",
       "       emp_status  emp_level  emp_path  time_per_week asp_alt_path skill_1  \\\n",
       "52  Transition In          7  Big Data              5     Big Data  Hadoop   \n",
       "\n",
       "   skill_2 skill_1_1evel skill_2_1evel  \n",
       "52  Python        Expert        Expert  "
      ]
     },
     "execution_count": 8,
     "metadata": {},
     "output_type": "execute_result"
    }
   ],
   "source": [
    "#Sampling a 'transistion in' status employee(user)\n",
    "sample_transition_in_user = transition_in_data['emp_id'].iloc[9]\n",
    "userdata[userdata['emp_id'] == sample_transition_in_user]"
   ]
  },
  {
   "cell_type": "code",
   "execution_count": 9,
   "id": "db9c5ee8",
   "metadata": {},
   "outputs": [
    {
     "data": {
      "text/html": [
       "<div>\n",
       "<style scoped>\n",
       "    .dataframe tbody tr th:only-of-type {\n",
       "        vertical-align: middle;\n",
       "    }\n",
       "\n",
       "    .dataframe tbody tr th {\n",
       "        vertical-align: top;\n",
       "    }\n",
       "\n",
       "    .dataframe thead th {\n",
       "        text-align: right;\n",
       "    }\n",
       "</style>\n",
       "<table border=\"1\" class=\"dataframe\">\n",
       "  <thead>\n",
       "    <tr style=\"text-align: right;\">\n",
       "      <th></th>\n",
       "      <th>emp_id</th>\n",
       "      <th>first_name</th>\n",
       "      <th>last_name</th>\n",
       "      <th>email</th>\n",
       "      <th>emp_dob</th>\n",
       "      <th>edu_level</th>\n",
       "      <th>emp_status</th>\n",
       "      <th>emp_level</th>\n",
       "      <th>emp_path</th>\n",
       "      <th>time_per_week</th>\n",
       "      <th>asp_alt_path</th>\n",
       "      <th>skill_1</th>\n",
       "      <th>skill_2</th>\n",
       "      <th>skill_1_1evel</th>\n",
       "      <th>skill_2_1evel</th>\n",
       "    </tr>\n",
       "  </thead>\n",
       "  <tbody>\n",
       "    <tr>\n",
       "      <th>8</th>\n",
       "      <td>37-0865020</td>\n",
       "      <td>Killy</td>\n",
       "      <td>Cloughton</td>\n",
       "      <td>kcloughton8@harvard.edu</td>\n",
       "      <td>23/06/1992</td>\n",
       "      <td>Bachelors</td>\n",
       "      <td>Active</td>\n",
       "      <td>2</td>\n",
       "      <td>DS</td>\n",
       "      <td>5</td>\n",
       "      <td>DS</td>\n",
       "      <td>R Language</td>\n",
       "      <td>AWS</td>\n",
       "      <td>Intermediate</td>\n",
       "      <td>Intermediate</td>\n",
       "    </tr>\n",
       "  </tbody>\n",
       "</table>\n",
       "</div>"
      ],
      "text/plain": [
       "       emp_id first_name  last_name                    email     emp_dob  \\\n",
       "8  37-0865020      Killy  Cloughton  kcloughton8@harvard.edu  23/06/1992   \n",
       "\n",
       "   edu_level emp_status  emp_level emp_path  time_per_week asp_alt_path  \\\n",
       "8  Bachelors     Active          2       DS              5           DS   \n",
       "\n",
       "      skill_1 skill_2 skill_1_1evel skill_2_1evel  \n",
       "8  R Language     AWS  Intermediate  Intermediate  "
      ]
     },
     "execution_count": 9,
     "metadata": {},
     "output_type": "execute_result"
    }
   ],
   "source": [
    "#Sampling a 'active' status employee(user)\n",
    "sample_active_user = remaining_data['emp_id'].iloc[7]\n",
    "userdata[userdata['emp_id'] == sample_active_user]"
   ]
  },
  {
   "cell_type": "markdown",
   "id": "334ea694",
   "metadata": {},
   "source": [
    "#### Essential Learning recommendations"
   ]
  },
  {
   "cell_type": "code",
   "execution_count": 10,
   "id": "390c8b6b",
   "metadata": {},
   "outputs": [],
   "source": [
    "# Defining a function that generates recommendations for the first category\n",
    "def feature_based_recommendations(user_id, top_n_users=60, top_n_courses=6):\n",
    "    \n",
    "    # Getting top N most similar users\n",
    "    similar_users = user_feature_similarity_df[user_id].sort_values(ascending=False)[1:top_n_users+1].index.tolist()\n",
    "    \n",
    "    # Getting courses rated by these users\n",
    "    similar_users_ratings = train_data[train_data['emp_id'].isin(similar_users)]\n",
    "    top_rated_courses = similar_users_ratings[similar_users_ratings['course_rating'] >= 4]\n",
    "    \n",
    "    # Recommending top N courses based on frequency among similar users\n",
    "    recommended_courses = top_rated_courses['course_name'].value_counts().head(top_n_courses).index.tolist()\n",
    "    \n",
    "    return recommended_courses\n",
    "\n"
   ]
  },
  {
   "cell_type": "markdown",
   "id": "4ae3f370",
   "metadata": {},
   "source": [
    "#### Generating Recommendations for Essential Learning"
   ]
  },
  {
   "cell_type": "code",
   "execution_count": 11,
   "id": "6791ad1c",
   "metadata": {},
   "outputs": [
    {
     "data": {
      "text/plain": [
       "['Machine Learning_Beginner',\n",
       " 'Machine Learning_Intermediate',\n",
       " 'R Language_Intermediate',\n",
       " 'Deep Learning_Beginner',\n",
       " 'Hadoop_Beginner',\n",
       " 'R Language_Beginner']"
      ]
     },
     "execution_count": 11,
     "metadata": {},
     "output_type": "execute_result"
    }
   ],
   "source": [
    "# Generating recommendations for the sample 'sample_active_user' user\n",
    "feature_based_recom_actuser = feature_based_recommendations(sample_active_user)\n",
    "\n",
    "feature_based_recom_actuser"
   ]
  },
  {
   "cell_type": "code",
   "execution_count": 12,
   "id": "5ce7e6e1",
   "metadata": {},
   "outputs": [
    {
     "data": {
      "text/plain": [
       "['Hadoop_Expert',\n",
       " 'Hadoop_Intermediate',\n",
       " 'Hadoop_Advanced',\n",
       " 'Hadoop_Beginner',\n",
       " 'Databases_Expert',\n",
       " 'Azure IaaS_Expert']"
      ]
     },
     "execution_count": 12,
     "metadata": {},
     "output_type": "execute_result"
    }
   ],
   "source": [
    "# Generating recommendations for the sample 'Transition In' user\n",
    "feature_based_recom_transinuser = feature_based_recommendations(sample_transition_in_user)\n",
    "\n",
    "feature_based_recom_transinuser"
   ]
  },
  {
   "cell_type": "markdown",
   "id": "fb2f7201",
   "metadata": {},
   "source": [
    "#### Comparison of recommendations"
   ]
  },
  {
   "cell_type": "code",
   "execution_count": 13,
   "id": "4a324855",
   "metadata": {},
   "outputs": [
    {
     "data": {
      "text/plain": [
       "{'R Language_Beginner', 'R Language_Intermediate'}"
      ]
     },
     "execution_count": 13,
     "metadata": {},
     "output_type": "execute_result"
    }
   ],
   "source": [
    "# Getting the courses that the sample 'Active' user has actually completed from the testing data\n",
    "actual_courses_completed_actuser = remaining_data[remaining_data['emp_id'] == sample_active_user]['course_name'].tolist()\n",
    "\n",
    "# Checking if the recommended courses match with the actual courses\n",
    "matching_courses = set(feature_based_recom_actuser) & set(actual_courses_completed_actuser)\n",
    "\n",
    "matching_courses"
   ]
  },
  {
   "cell_type": "code",
   "execution_count": 14,
   "id": "15a9ab31",
   "metadata": {},
   "outputs": [
    {
     "data": {
      "text/plain": [
       "{'Hadoop_Advanced', 'Hadoop_Expert'}"
      ]
     },
     "execution_count": 14,
     "metadata": {},
     "output_type": "execute_result"
    }
   ],
   "source": [
    "# Getting the courses that the sample 'Transition In' user has actually completed from the testing data\n",
    "actual_courses_completed_transinuser = transition_in_data[transition_in_data['emp_id'] == sample_transition_in_user]['course_name'].tolist()\n",
    "\n",
    "# Checking if the recommended courses match with the actual courses\n",
    "matching_courses = set(feature_based_recom_transinuser) & set(actual_courses_completed_transinuser)\n",
    "\n",
    "matching_courses\n"
   ]
  },
  {
   "cell_type": "markdown",
   "id": "09d13bf3",
   "metadata": {},
   "source": [
    "#### Popular Learning Recommendations"
   ]
  },
  {
   "cell_type": "code",
   "execution_count": 15,
   "id": "50e4bcc2",
   "metadata": {},
   "outputs": [],
   "source": [
    "# Defining a function that generates recommendations of the second category\n",
    "def popularity_based_recommendations(user_id, top_n=6):\n",
    "    \n",
    "    # Getting the user's emp_path\n",
    "    user_emp_path = userdata[userdata['emp_id'] == user_id]['emp_path'].values[0]\n",
    "    \n",
    "    # Filtering ratingdata by emp_path\n",
    "    same_path_data = train_data[train_data['emp_path'] == user_emp_path]\n",
    "    \n",
    "    # Ranking courses by popularity (number of ratings and average rating)\n",
    "    popular_courses = same_path_data.groupby('course_name').agg({'course_rating': ['count', 'mean']})\n",
    "    popular_courses.columns = ['number_of_ratings', 'average_rating']\n",
    "    popular_courses['popularity_score'] = popular_courses['number_of_ratings'] * popular_courses['average_rating']\n",
    "    \n",
    "    # Recommending top N courses based on popularity\n",
    "    recommendations = popular_courses.sort_values(by='popularity_score', ascending=False).head(top_n).index.tolist()\n",
    "    \n",
    "    return recommendations\n",
    "\n"
   ]
  },
  {
   "cell_type": "markdown",
   "id": "a188e6a5",
   "metadata": {},
   "source": [
    "#### Generating Recommendations for Popular Learning"
   ]
  },
  {
   "cell_type": "code",
   "execution_count": 16,
   "id": "3c233942",
   "metadata": {},
   "outputs": [
    {
     "data": {
      "text/plain": [
       "['Machine Learning_Beginner',\n",
       " 'Machine Learning_Intermediate',\n",
       " 'Machine Learning_Expert',\n",
       " 'Machine Learning_Advanced',\n",
       " 'Python_Beginner',\n",
       " 'R Language_Intermediate']"
      ]
     },
     "execution_count": 16,
     "metadata": {},
     "output_type": "execute_result"
    }
   ],
   "source": [
    "\n",
    "# Generating recommendations for the sample 'Active' user\n",
    "popularity_recom_sample_actuser = popularity_based_recommendations(sample_active_user)\n",
    "\n",
    "popularity_recom_sample_actuser"
   ]
  },
  {
   "cell_type": "code",
   "execution_count": 17,
   "id": "50091b57",
   "metadata": {},
   "outputs": [
    {
     "data": {
      "text/plain": [
       "['Hadoop_Intermediate',\n",
       " 'Hadoop_Beginner',\n",
       " 'Hadoop_Expert',\n",
       " 'Hadoop_Advanced',\n",
       " 'SQL_Advanced',\n",
       " 'Python_Beginner']"
      ]
     },
     "execution_count": 17,
     "metadata": {},
     "output_type": "execute_result"
    }
   ],
   "source": [
    "\n",
    "# Generating recommendations for the sample 'Transition In' user\n",
    "popularity_recom_transinuser = popularity_based_recommendations(sample_transition_in_user)\n",
    "\n",
    "popularity_recom_transinuser"
   ]
  },
  {
   "cell_type": "code",
   "execution_count": 18,
   "id": "5b7f0d08",
   "metadata": {},
   "outputs": [
    {
     "data": {
      "text/plain": [
       "{'R Language_Intermediate'}"
      ]
     },
     "execution_count": 18,
     "metadata": {},
     "output_type": "execute_result"
    }
   ],
   "source": [
    "# Getting the courses that the sample 'Active' user has actually completed from the testing data\n",
    "actual_courses_completed_actuser = remaining_data[remaining_data['emp_id'] == sample_active_user]['course_name'].tolist()\n",
    "\n",
    "# Checking if the recommended courses match with the actual courses\n",
    "matching_courses = set(popularity_recom_sample_actuser) & set(actual_courses_completed_actuser)\n",
    "\n",
    "matching_courses"
   ]
  },
  {
   "cell_type": "code",
   "execution_count": 19,
   "id": "45c4e642",
   "metadata": {},
   "outputs": [
    {
     "data": {
      "text/plain": [
       "{'Hadoop_Advanced', 'Hadoop_Expert', 'Python_Beginner'}"
      ]
     },
     "execution_count": 19,
     "metadata": {},
     "output_type": "execute_result"
    }
   ],
   "source": [
    "# Getting the courses that the sample 'Transition In' user has actually completed from the testing data\n",
    "actual_courses_completed_transinuser = transition_in_data[transition_in_data['emp_id'] == sample_transition_in_user]['course_name'].tolist()\n",
    "\n",
    "# Checking if the recommended courses match with the actual courses\n",
    "matching_courses = set(popularity_recom_transinuser) & set(actual_courses_completed_transinuser)\n",
    "\n",
    "matching_courses"
   ]
  },
  {
   "cell_type": "markdown",
   "id": "90f62db1",
   "metadata": {},
   "source": [
    "#### Advanced Learning Recommendations"
   ]
  },
  {
   "cell_type": "code",
   "execution_count": 20,
   "id": "5360940a",
   "metadata": {},
   "outputs": [],
   "source": [
    "# Defining the function that generates recommendations of the third category\n",
    "def next_level_recommendations(user_id, top_n=6):\n",
    "       \n",
    "    # Got the user's current emp_level\n",
    "    current_emp_level = userdata[userdata['emp_id'] == user_id]['emp_level'].values[0]\n",
    "    \n",
    "    # Determining the next emp_level (assuming emp_level is a continuous range from 1 to 7)\n",
    "    next_emp_level = min(current_emp_level + 1, 7)  # 7 being the highest emp_level\n",
    "    \n",
    "    # Retrieving users of the next emp_level\n",
    "    users_next_level = userdata[userdata['emp_level'] == next_emp_level]['emp_id'].tolist()\n",
    "    \n",
    "    # Filtering ratingdata by users of the next emp_level\n",
    "    next_level_data = train_data[train_data['emp_id'].isin(users_next_level)]\n",
    "    \n",
    "    # Ranking the courses by popularity (number of ratings and average rating)\n",
    "    popular_courses_next_level = next_level_data.groupby('course_name').agg({'course_rating': ['count', 'mean']})\n",
    "    popular_courses_next_level.columns = ['number_of_ratings', 'average_rating']\n",
    "    popular_courses_next_level['popularity_score'] = popular_courses_next_level['number_of_ratings'] * popular_courses_next_level['average_rating']\n",
    "    \n",
    "    # Recommending the top N courses based on popularity among the next level users\n",
    "    recommendations = popular_courses_next_level.sort_values(by='popularity_score', ascending=False).head(top_n).index.tolist()\n",
    "    \n",
    "    return recommendations\n",
    "\n"
   ]
  },
  {
   "cell_type": "markdown",
   "id": "9bbe3112",
   "metadata": {},
   "source": [
    "#### Generating Recommendations for Advanced Learning"
   ]
  },
  {
   "cell_type": "code",
   "execution_count": 21,
   "id": "0d575f73",
   "metadata": {},
   "outputs": [
    {
     "data": {
      "text/plain": [
       "['Python_Beginner',\n",
       " 'Hadoop_Beginner',\n",
       " 'SQL_Beginner',\n",
       " 'Hadoop_Intermediate',\n",
       " 'Databases_Beginner',\n",
       " 'Azure IaaS_Beginner']"
      ]
     },
     "execution_count": 21,
     "metadata": {},
     "output_type": "execute_result"
    }
   ],
   "source": [
    "# Generating recommendations for the sample 'Active' user\n",
    "next_level_recom_sample_actuser = next_level_recommendations(sample_active_user)\n",
    "\n",
    "next_level_recom_sample_actuser\n"
   ]
  },
  {
   "cell_type": "code",
   "execution_count": 22,
   "id": "a0adf076",
   "metadata": {},
   "outputs": [
    {
     "data": {
      "text/plain": [
       "['Hadoop_Expert',\n",
       " 'SQL_Advanced',\n",
       " 'Hadoop_Intermediate',\n",
       " 'Hadoop_Advanced',\n",
       " 'Databases_Expert',\n",
       " 'Power BI_Expert']"
      ]
     },
     "execution_count": 22,
     "metadata": {},
     "output_type": "execute_result"
    }
   ],
   "source": [
    "# Generating recommendations for the sample 'Transition In' user\n",
    "next_level_recom_sample_transinuser = next_level_recommendations(sample_transition_in_user)\n",
    "\n",
    "next_level_recom_sample_transinuser"
   ]
  },
  {
   "cell_type": "markdown",
   "id": "afe78af5",
   "metadata": {},
   "source": [
    "#### Alternate Learning Recommendations"
   ]
  },
  {
   "cell_type": "code",
   "execution_count": 23,
   "id": "292ce59c",
   "metadata": {},
   "outputs": [],
   "source": [
    "def asp_alt_path_recommendations(user_id, top_n=6):\n",
    "   \n",
    "    # Getting user's asp_alt_Path\n",
    "    user_asp_alt_path = userdata[userdata['emp_id'] == user_id]['asp_alt_path'].values[0]\n",
    "    \n",
    "    # Retrieving users whose emp_path matches the user's asp_alt_path\n",
    "    users_asp_path = userdata[userdata['emp_path'] == user_asp_alt_path]['emp_id'].tolist()\n",
    "    \n",
    "    # Filtering ratingdata by these users\n",
    "    asp_path_data = train_data[train_data['emp_id'].isin(users_asp_path)]\n",
    "    \n",
    "    # Ranking courses by popularity (number of ratings and average rating)\n",
    "    popular_courses_asp_path = asp_path_data.groupby('course_name').agg({'course_rating': ['count', 'mean']})\n",
    "    popular_courses_asp_path.columns = ['number_of_ratings', 'average_rating']\n",
    "    popular_courses_asp_path['popularity_score'] = popular_courses_asp_path['number_of_ratings'] * popular_courses_asp_path['average_rating']\n",
    "    \n",
    "    # Recommending top N courses based on popularity\n",
    "    recommendations = popular_courses_asp_path.sort_values(by='popularity_score', ascending=False).head(top_n).index.tolist()\n",
    "    \n",
    "    return recommendations\n",
    "\n",
    "\n"
   ]
  },
  {
   "cell_type": "markdown",
   "id": "359a3e6b",
   "metadata": {},
   "source": [
    "#### Generating Recommendations for Aspirational Learning"
   ]
  },
  {
   "cell_type": "code",
   "execution_count": 24,
   "id": "9477d5a7",
   "metadata": {},
   "outputs": [
    {
     "data": {
      "text/plain": [
       "['Machine Learning_Beginner',\n",
       " 'Machine Learning_Intermediate',\n",
       " 'Machine Learning_Expert',\n",
       " 'Machine Learning_Advanced',\n",
       " 'Python_Beginner',\n",
       " 'R Language_Intermediate']"
      ]
     },
     "execution_count": 24,
     "metadata": {},
     "output_type": "execute_result"
    }
   ],
   "source": [
    "# Generating recommendations for the sample 'Active' user\n",
    "asp_path_recom_sample_actuser = asp_alt_path_recommendations(sample_active_user)\n",
    "\n",
    "asp_path_recom_sample_actuser"
   ]
  },
  {
   "cell_type": "code",
   "execution_count": 25,
   "id": "b47438d3",
   "metadata": {},
   "outputs": [
    {
     "data": {
      "text/plain": [
       "['Hadoop_Intermediate',\n",
       " 'Hadoop_Beginner',\n",
       " 'Hadoop_Expert',\n",
       " 'Hadoop_Advanced',\n",
       " 'SQL_Advanced',\n",
       " 'Python_Beginner']"
      ]
     },
     "execution_count": 25,
     "metadata": {},
     "output_type": "execute_result"
    }
   ],
   "source": [
    "# Generating recommendations for the sample 'Transition In' user\n",
    "asp_path_recom_sample_transinuser = asp_alt_path_recommendations(sample_transition_in_user)\n",
    "\n",
    "asp_path_recom_sample_transinuser"
   ]
  },
  {
   "cell_type": "markdown",
   "id": "9643b04a",
   "metadata": {},
   "source": [
    "## Model Evaluation"
   ]
  },
  {
   "cell_type": "code",
   "execution_count": 26,
   "id": "f6f073dd",
   "metadata": {},
   "outputs": [],
   "source": [
    "# Generating feature-based recommendations for test users\n",
    "test_users = test_data['emp_id'].unique()\n",
    "feature_based_rec = {user: feature_based_recommendations(user) for user in test_users}\n"
   ]
  },
  {
   "cell_type": "code",
   "execution_count": 27,
   "id": "ce383877",
   "metadata": {},
   "outputs": [
    {
     "data": {
      "text/plain": [
       "(0.10644893021849232, 0.24899124086014565, 0.1361221614000017)"
      ]
     },
     "execution_count": 27,
     "metadata": {},
     "output_type": "execute_result"
    }
   ],
   "source": [
    "# The function to calculate metrics\n",
    "def compute_metrics_for_recommendations(recommendations, actual_courses):\n",
    "    \n",
    "    TP = len(set(recommendations) & set(actual_courses))\n",
    "    FP = len(set(recommendations) - set(actual_courses))\n",
    "    FN = len(set(actual_courses) - set(recommendations))\n",
    "    \n",
    "    precision = TP / (TP + FP) if (TP + FP) != 0 else 0\n",
    "    recall = TP / (TP + FN) if (TP + FN) != 0 else 0\n",
    "    f1_score = 2 * (precision * recall) / (precision + recall) if (precision + recall) != 0 else 0\n",
    "    \n",
    "    return precision, recall, f1_score\n",
    "\n",
    "# Calculating accuracy metrics for all users in the test data for feature-based recommendations\n",
    "precisions = []\n",
    "recalls = []\n",
    "f1_scores = []\n",
    "\n",
    "for user, rec_courses in feature_based_rec.items():\n",
    "    actual_courses = test_data[test_data['emp_id'] == user]['course_name'].tolist()\n",
    "    precision, recall, f1 = compute_metrics_for_recommendations(rec_courses, actual_courses)\n",
    "    precisions.append(precision)\n",
    "    recalls.append(recall)\n",
    "    f1_scores.append(f1)\n",
    "\n",
    "# Calculating average precision, recall, and F1-score\n",
    "avg_precision = sum(precisions) / len(precisions)\n",
    "avg_recall = sum(recalls) / len(recalls)\n",
    "avg_f1_score = sum(f1_scores) / len(f1_scores)\n",
    "\n",
    "avg_precision, avg_recall, avg_f1_score\n"
   ]
  },
  {
   "cell_type": "code",
   "execution_count": 28,
   "id": "50e23613",
   "metadata": {},
   "outputs": [],
   "source": [
    "# Defining the process to compute popular courses for each emp_path\n",
    "def compute_popular_courses_for_each_path(top_n=6):\n",
    "    \n",
    "    # Ranking courses by popularity (number of ratings and average rating) within each emp_path\n",
    "    popular_courses = train_data.groupby(['emp_path', 'course_name']).agg({'course_rating': ['count', 'mean']})\n",
    "    popular_courses.columns = ['number_of_ratings', 'average_rating']\n",
    "    popular_courses['popularity_score'] = popular_courses['number_of_ratings'] * popular_courses['average_rating']\n",
    "    \n",
    "    # Getting top N courses for each emp_path based on popularity score\n",
    "    recommendations = popular_courses.groupby(level=0).apply(lambda x: x.nlargest(top_n, 'popularity_score')).reset_index(level=0, drop=True)\n",
    "    return recommendations\n",
    "\n",
    "popularity_rankings = compute_popular_courses_for_each_path()"
   ]
  },
  {
   "cell_type": "code",
   "execution_count": 29,
   "id": "fd8242e6",
   "metadata": {},
   "outputs": [
    {
     "data": {
      "text/plain": [
       "(0.09366666666666654, 0.2666333333333333, 0.13403434343434337)"
      ]
     },
     "execution_count": 29,
     "metadata": {},
     "output_type": "execute_result"
    }
   ],
   "source": [
    "# optimizing the previously defined popularity recommendations generation function in order to calculate the metrics\n",
    "\n",
    "def optimized_popularity_based_recommendations(user_id, top_n=6):\n",
    "       \n",
    "    # Getting user's emp_path\n",
    "    user_emp_path = userdata[userdata['emp_id'] == user_id]['emp_path'].values[0]\n",
    "    \n",
    "    # Getting the precomputed popular courses for the user's emp_path\n",
    "    popular_courses_for_path = popularity_rankings.loc[user_emp_path].index.tolist()[:top_n]\n",
    "    \n",
    "    return popular_courses_for_path\n",
    "\n",
    "# Generating popularity-based recommendations for the subset of users in the test data\n",
    "# as calculating for all the users has been overloading the kernel calculation power.\n",
    "subset_test_users = test_users[:500]\n",
    "subset_popularity_based_rec = {user: optimized_popularity_based_recommendations(user) for user in subset_test_users}\n",
    "\n",
    "# Calculating metrics for this subset's popularity-based recommendations\n",
    "subset_popularity_precisions = []\n",
    "subset_popularity_recalls = []\n",
    "subset_popularity_f1_scores = []\n",
    "\n",
    "for user, rec_courses in subset_popularity_based_rec.items():\n",
    "    actual_courses = test_data[test_data['emp_id'] == user]['course_name'].tolist()\n",
    "    precision, recall, f1 = compute_metrics_for_recommendations(rec_courses, actual_courses)\n",
    "    subset_popularity_precisions.append(precision)\n",
    "    subset_popularity_recalls.append(recall)\n",
    "    subset_popularity_f1_scores.append(f1)\n",
    "\n",
    "# Calculating average precision, recall, and F1-score for popularity-based recommendations for this test subset\n",
    "avg_subset_popularity_precision = sum(subset_popularity_precisions) / len(subset_popularity_precisions)\n",
    "avg_subset_popularity_recall = sum(subset_popularity_recalls) / len(subset_popularity_recalls)\n",
    "avg_subset_popularity_f1_score = sum(subset_popularity_f1_scores) / len(subset_popularity_f1_scores)\n",
    "\n",
    "avg_subset_popularity_precision, avg_subset_popularity_recall, avg_subset_popularity_f1_score\n"
   ]
  },
  {
   "cell_type": "code",
   "execution_count": null,
   "id": "d812ee97",
   "metadata": {},
   "outputs": [],
   "source": []
  }
 ],
 "metadata": {
  "kernelspec": {
   "display_name": "Python 3 (ipykernel)",
   "language": "python",
   "name": "python3"
  },
  "language_info": {
   "codemirror_mode": {
    "name": "ipython",
    "version": 3
   },
   "file_extension": ".py",
   "mimetype": "text/x-python",
   "name": "python",
   "nbconvert_exporter": "python",
   "pygments_lexer": "ipython3",
   "version": "3.9.13"
  }
 },
 "nbformat": 4,
 "nbformat_minor": 5
}
